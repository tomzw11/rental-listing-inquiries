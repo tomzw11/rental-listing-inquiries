{
  "nbformat": 4,
  "nbformat_minor": 0,
  "metadata": {
    "colab": {
      "name": "train.ipynb",
      "provenance": [],
      "collapsed_sections": [],
      "toc_visible": true,
      "mount_file_id": "1AYg-c-jUXN4OcTdKiA7HfGB43RhhJ0K2",
      "authorship_tag": "ABX9TyPCrKkCkmdML6SpTWRjixUp",
      "include_colab_link": true
    },
    "kernelspec": {
      "name": "python3",
      "display_name": "Python 3"
    }
  },
  "cells": [
    {
      "cell_type": "markdown",
      "metadata": {
        "id": "view-in-github",
        "colab_type": "text"
      },
      "source": [
        "<a href=\"https://colab.research.google.com/github/tomzw11/rental-listing-inquiries/blob/master/train.ipynb\" target=\"_parent\"><img src=\"https://colab.research.google.com/assets/colab-badge.svg\" alt=\"Open In Colab\"/></a>"
      ]
    },
    {
      "cell_type": "code",
      "metadata": {
        "colab_type": "code",
        "id": "UVTPK67A41Jc",
        "colab": {}
      },
      "source": [
        "import pandas as pd\n",
        "import os\n",
        "\n",
        "# print(os.getcwd())\n",
        "df_train = pd.read_json(\"/content/drive/My Drive/Colab Notebooks/train.json\")\n",
        "\n",
        "# df_train.head()"
      ],
      "execution_count": 0,
      "outputs": []
    },
    {
      "cell_type": "code",
      "metadata": {
        "id": "Ler5b20xA93y",
        "colab_type": "code",
        "colab": {}
      },
      "source": [
        "# distribution of manager_id.\n",
        "from collections import Counter\n",
        "\n",
        "manager_id = df_train['manager_id']\n",
        "Counter(list(manager_id)).most_common(20)\n"
      ],
      "execution_count": 0,
      "outputs": []
    },
    {
      "cell_type": "code",
      "metadata": {
        "id": "PMWruysHPJPR",
        "colab_type": "code",
        "colab": {}
      },
      "source": [
        "import sklearn as sk\n",
        "import numpy as np\n",
        "from sklearn.model_selection import train_test_split\n",
        "from sklearn import preprocessing\n",
        "\n",
        "# preprocessing.\n",
        "labels = np.array(df_train[\"interest_level\"])\n",
        "le = preprocessing.LabelEncoder()\n",
        "le.fit(labels)\n",
        "labels_encoded = le.transform(labels)\n",
        "# print(labels_encoded[0:10])\n",
        "# print(labels_encoded.dtype)\n",
        "\n",
        "# extract features to train.\n",
        "features = np.array(df_train[[\"bathrooms\",\"bedrooms\",\"latitude\",\"longitude\",\"price\"]])\n",
        "\n",
        "# Split the data into training and testing sets\n",
        "train_features, test_features, train_labels, test_labels = train_test_split(features, labels_encoded, test_size = 0.25)\n",
        "\n",
        "# print('Training Features Shape:', train_features.shape)\n",
        "# print('Training Labels Shape:', train_labels.shape)\n",
        "# print('Testing Features Shape:', test_features.shape)\n",
        "# print('Testing Labels Shape:', test_labels.shape)"
      ],
      "execution_count": 0,
      "outputs": []
    },
    {
      "cell_type": "code",
      "metadata": {
        "id": "EkrPCQ6n9-Do",
        "colab_type": "code",
        "colab": {
          "base_uri": "https://localhost:8080/",
          "height": 34
        },
        "outputId": "25da91cd-1ce2-4b7d-ab61-5b77f7b468b9"
      },
      "source": [
        "# create a baseline model based on price and number of bedrooms.\n",
        "train_price = np.transpose(train_features)[4]\n",
        "train_bedroom = np.transpose(train_features)[1]\n",
        "# train_bedroom = [num if num>0 for num in train_bedroom]\n",
        "train_baseline = [1000*b/p for (p,b) in zip(train_price,train_bedroom)]\n",
        "\n",
        "p_33 = np.percentile(train_baseline,33)\n",
        "p_66 = np.percentile(train_baseline,66)\n",
        "\n",
        "predictions_baseline = [0 if b < p_33 else 2 if b > p_66 else 1 for b in train_baseline]\n",
        "\n",
        "accuracy_baseline = len(predictions_baseline)\n",
        "for p in zip(predictions_baseline,test_labels):\n",
        "  if p[0]!=p[1]:\n",
        "    accuracy_baseline = accuracy_baseline - 1\n",
        "\n",
        "print(\"Baseline Prediction Accuracy \",accuracy_baseline/len(predictions_baseline))\n"
      ],
      "execution_count": 11,
      "outputs": [
        {
          "output_type": "stream",
          "text": [
            "Baseline Prediction Accuracy  0.777354514508024\n"
          ],
          "name": "stdout"
        }
      ]
    },
    {
      "cell_type": "code",
      "metadata": {
        "id": "ArvDfUWL9csp",
        "colab_type": "code",
        "colab": {
          "base_uri": "https://localhost:8080/",
          "height": 153
        },
        "outputId": "12c074f6-c4a4-4fce-e971-d19c8ba6b7f9"
      },
      "source": [
        "from sklearn.ensemble import RandomForestClassifier\n",
        "\n",
        "clf = RandomForestClassifier()\n",
        "clf.fit(train_features,train_labels)\n"
      ],
      "execution_count": 12,
      "outputs": [
        {
          "output_type": "execute_result",
          "data": {
            "text/plain": [
              "RandomForestClassifier(bootstrap=True, ccp_alpha=0.0, class_weight=None,\n",
              "                       criterion='gini', max_depth=None, max_features='auto',\n",
              "                       max_leaf_nodes=None, max_samples=None,\n",
              "                       min_impurity_decrease=0.0, min_impurity_split=None,\n",
              "                       min_samples_leaf=1, min_samples_split=2,\n",
              "                       min_weight_fraction_leaf=0.0, n_estimators=100,\n",
              "                       n_jobs=None, oob_score=False, random_state=None,\n",
              "                       verbose=0, warm_start=False)"
            ]
          },
          "metadata": {
            "tags": []
          },
          "execution_count": 12
        }
      ]
    },
    {
      "cell_type": "code",
      "metadata": {
        "id": "ehkukqIoRdBm",
        "colab_type": "code",
        "colab": {
          "base_uri": "https://localhost:8080/",
          "height": 34
        },
        "outputId": "d173771a-48b6-475c-84ea-c15128f60e21"
      },
      "source": [
        "predictions = clf.predict(test_features)\n",
        "\n",
        "accuracy = len(predictions)\n",
        "for p in zip(predictions,test_labels):\n",
        "  if p[0]!=p[1]:\n",
        "    accuracy = accuracy - 1\n",
        "\n",
        "print(\"Prediction Accuracy \",accuracy/len(predictions))\n"
      ],
      "execution_count": 14,
      "outputs": [
        {
          "output_type": "stream",
          "text": [
            "Prediction Accuracy  0.7032744366996272\n"
          ],
          "name": "stdout"
        }
      ]
    },
    {
      "cell_type": "code",
      "metadata": {
        "id": "xw_tjo48Kqxf",
        "colab_type": "code",
        "colab": {}
      },
      "source": [
        "# visualize decision tree.\n",
        "\n",
        "# Import tools needed for visualization\n",
        "from sklearn.tree import export_graphviz\n",
        "import pydot\n",
        "\n",
        "# Pull out one tree from the forest\n",
        "tree = clf.estimators_[5]\n",
        "\n",
        "feature_list = [\"bathrooms\",\"bedrooms\",\"latitude\",\"longitude\",\"price\"]\n",
        "\n",
        "# Export the image to a dot file\n",
        "export_graphviz(tree, out_file = 'tree.dot', feature_names = feature_list, rounded = True, precision = 1)\n",
        "# Use dot file to create a graph\n",
        "(graph, ) = pydot.graph_from_dot_file('tree.dot')\n",
        "# Write graph to a png file\n",
        "graph.write_png('tree.png')\n"
      ],
      "execution_count": 0,
      "outputs": []
    },
    {
      "cell_type": "code",
      "metadata": {
        "id": "Cbubqsy-k3Yp",
        "colab_type": "code",
        "colab": {
          "base_uri": "https://localhost:8080/",
          "height": 102
        },
        "outputId": "c4ba9f71-c04b-45f0-cc2a-de31b09d9a45"
      },
      "source": [
        "# figure out variable importances.\n",
        "\n",
        "# Get numerical feature importances\n",
        "importances = list(clf.feature_importances_)\n",
        "# List of tuples with variable and importance\n",
        "feature_importances = [(feature, round(importance, 2)) for feature, importance in zip(feature_list, importances)]\n",
        "# Sort the feature importances by most important first\n",
        "feature_importances = sorted(feature_importances, key = lambda x: x[1], reverse = True)\n",
        "# Print out the feature and importances \n",
        "[print('Variable: {:20} Importance: {}'.format(*pair)) for pair in feature_importances];"
      ],
      "execution_count": 17,
      "outputs": [
        {
          "output_type": "stream",
          "text": [
            "Variable: price                Importance: 0.35\n",
            "Variable: latitude             Importance: 0.29\n",
            "Variable: longitude            Importance: 0.29\n",
            "Variable: bedrooms             Importance: 0.05\n",
            "Variable: bathrooms            Importance: 0.02\n"
          ],
          "name": "stdout"
        }
      ]
    }
  ]
}