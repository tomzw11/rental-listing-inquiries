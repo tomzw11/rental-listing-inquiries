{
  "nbformat": 4,
  "nbformat_minor": 0,
  "metadata": {
    "colab": {
      "name": "train.ipynb",
      "provenance": [],
      "collapsed_sections": [],
      "mount_file_id": "1AYg-c-jUXN4OcTdKiA7HfGB43RhhJ0K2",
      "authorship_tag": "ABX9TyObumtEGWYbsk49eHNXwpTd",
      "include_colab_link": true
    },
    "kernelspec": {
      "name": "python3",
      "display_name": "Python 3"
    }
  },
  "cells": [
    {
      "cell_type": "markdown",
      "metadata": {
        "id": "view-in-github",
        "colab_type": "text"
      },
      "source": [
        "<a href=\"https://colab.research.google.com/github/tomzw11/rental-listing-inquiries/blob/master/train.ipynb\" target=\"_parent\"><img src=\"https://colab.research.google.com/assets/colab-badge.svg\" alt=\"Open In Colab\"/></a>"
      ]
    },
    {
      "cell_type": "code",
      "metadata": {
        "colab_type": "code",
        "id": "UVTPK67A41Jc",
        "colab": {}
      },
      "source": [
        "import pandas as pd\n",
        "import os\n",
        "\n",
        "# print(os.getcwd())\n",
        "df_train = pd.read_json(\"/content/drive/My Drive/Colab Notebooks/train.json\")\n",
        "\n",
        "# df_train.head()"
      ],
      "execution_count": 0,
      "outputs": []
    },
    {
      "cell_type": "code",
      "metadata": {
        "id": "Ler5b20xA93y",
        "colab_type": "code",
        "colab": {}
      },
      "source": [
        "# distribution of manager_id.\n",
        "from collections import Counter\n",
        "\n",
        "manager_id = df_train['manager_id']\n",
        "Counter(list(manager_id)).most_common(20)\n"
      ],
      "execution_count": 0,
      "outputs": []
    },
    {
      "cell_type": "code",
      "metadata": {
        "id": "PMWruysHPJPR",
        "colab_type": "code",
        "colab": {}
      },
      "source": [
        "import sklearn as sk\n",
        "import numpy as np\n",
        "from sklearn.model_selection import train_test_split\n",
        "from sklearn import preprocessing\n",
        "\n",
        "# preprocessing.\n",
        "labels = np.array(df_train[\"interest_level\"])\n",
        "le = preprocessing.LabelEncoder()\n",
        "le.fit(labels)\n",
        "labels_encoded = le.transform(labels)\n",
        "# print(labels_encoded[0:10])\n",
        "# print(labels_encoded.dtype)\n",
        "\n",
        "# feature engineering.\n",
        "df_train[\"num_features\"] = df_train[\"features\"].apply(len)\n",
        "df_train[\"num_photos\"] = df_train[\"photos\"].apply(len)\n",
        "df_train[\"num_description_words\"] = df_train[\"description\"].apply(lambda x: len(x.split(\" \")))\n",
        "df_train[\"created\"] = pd.to_datetime(df_train[\"created\"])\n",
        "df_train[\"created_month\"] = df_train[\"created\"].dt.month\n",
        "df_train[\"created_day\"] = df_train[\"created\"].dt.day\n",
        "\n",
        "# create features on price and number of rooms.\n",
        "df_train[\"bedroom per dollar\"] = np.divide(df_train[\"bedrooms\"],df_train[\"price\"])*1000\n",
        "df_train[\"bathroom per dollar\"] = np.divide(df_train[\"bathrooms\"],df_train[\"price\"])*1000\n",
        "\n",
        "# extract features to train.\n",
        "features = np.array(df_train[[\"bathrooms\",\"bedrooms\",\"bedroom per dollar\",\"bathroom per dollar\",\"latitude\",\"longitude\",\"price\",\"num_features\",\n",
        "             \"num_photos\", \"num_features\", \"num_description_words\", \"created_month\", \"created_day\"]])\n",
        "\n",
        "# Split the data into training and testing sets\n",
        "train_features, test_features, train_labels, test_labels = train_test_split(features, labels_encoded, test_size = 0.25)\n",
        "\n",
        "# print('Training Features Shape:', train_features.shape)\n",
        "# print('Training Labels Shape:', train_labels.shape)\n",
        "# print('Testing Features Shape:', test_features.shape)\n",
        "# print('Testing Labels Shape:', test_labels.shape)"
      ],
      "execution_count": 0,
      "outputs": []
    },
    {
      "cell_type": "code",
      "metadata": {
        "id": "ArvDfUWL9csp",
        "colab_type": "code",
        "colab": {
          "base_uri": "https://localhost:8080/",
          "height": 153
        },
        "outputId": "796e5c90-9036-4f55-995b-8ca711167e1f"
      },
      "source": [
        "from sklearn.ensemble import RandomForestClassifier\n",
        "\n",
        "clf = RandomForestClassifier()\n",
        "clf.fit(train_features,train_labels)\n"
      ],
      "execution_count": 4,
      "outputs": [
        {
          "output_type": "execute_result",
          "data": {
            "text/plain": [
              "RandomForestClassifier(bootstrap=True, ccp_alpha=0.0, class_weight=None,\n",
              "                       criterion='gini', max_depth=None, max_features='auto',\n",
              "                       max_leaf_nodes=None, max_samples=None,\n",
              "                       min_impurity_decrease=0.0, min_impurity_split=None,\n",
              "                       min_samples_leaf=1, min_samples_split=2,\n",
              "                       min_weight_fraction_leaf=0.0, n_estimators=100,\n",
              "                       n_jobs=None, oob_score=False, random_state=None,\n",
              "                       verbose=0, warm_start=False)"
            ]
          },
          "metadata": {
            "tags": []
          },
          "execution_count": 4
        }
      ]
    },
    {
      "cell_type": "code",
      "metadata": {
        "id": "ehkukqIoRdBm",
        "colab_type": "code",
        "colab": {
          "base_uri": "https://localhost:8080/",
          "height": 34
        },
        "outputId": "e17f9d50-d52a-4e69-c7a3-06994bdef0a0"
      },
      "source": [
        "predictions = clf.predict(test_features)\n",
        "\n",
        "accuracy = len(predictions)\n",
        "for p in zip(predictions,test_labels):\n",
        "  if p[0]!=p[1]:\n",
        "    accuracy = accuracy - 1\n",
        "\n",
        "print(\"Prediction Accuracy \",accuracy/len(predictions))\n"
      ],
      "execution_count": 5,
      "outputs": [
        {
          "output_type": "stream",
          "text": [
            "Prediction Accuracy  0.7230507375587616\n"
          ],
          "name": "stdout"
        }
      ]
    },
    {
      "cell_type": "code",
      "metadata": {
        "id": "PDyKo5SVIONV",
        "colab_type": "code",
        "colab": {
          "base_uri": "https://localhost:8080/",
          "height": 34
        },
        "outputId": "d32bc6cc-25aa-4b69-fea5-521463745a8a"
      },
      "source": [
        "# compute log loss.\n",
        "from sklearn.metrics import log_loss\n",
        "predictions_prob = clf.predict_proba(test_features)\n",
        "logloss = log_loss(test_labels, predictions_prob)\n",
        "\n",
        "print(\"Prediction Log Loss \", logloss)"
      ],
      "execution_count": 6,
      "outputs": [
        {
          "output_type": "stream",
          "text": [
            "Prediction Log Loss  0.6963354476272136\n"
          ],
          "name": "stdout"
        }
      ]
    },
    {
      "cell_type": "code",
      "metadata": {
        "id": "xw_tjo48Kqxf",
        "colab_type": "code",
        "colab": {
          "base_uri": "https://localhost:8080/",
          "height": 379
        },
        "outputId": "06f5f661-674d-47f8-b903-d2b0085caf5f"
      },
      "source": [
        "# visualize decision tree.\n",
        "\n",
        "# Import tools needed for visualization\n",
        "from sklearn.tree import export_graphviz\n",
        "import pydot\n",
        "\n",
        "# Pull out one tree from the forest\n",
        "tree = clf.estimators_[5]\n",
        "\n",
        "feature_list = [\"bathrooms\",\"bedrooms\",\"latitude\",\"longitude\",\"price\"]\n",
        "\n",
        "# Export the image to a dot file\n",
        "export_graphviz(tree, out_file = 'tree.dot', feature_names = feature_list, rounded = True, precision = 1)\n",
        "# Use dot file to create a graph\n",
        "(graph, ) = pydot.graph_from_dot_file('tree.dot')\n",
        "# Write graph to a png file\n",
        "graph.write_png('tree.png')\n"
      ],
      "execution_count": 7,
      "outputs": [
        {
          "output_type": "error",
          "ename": "ValueError",
          "evalue": "ignored",
          "traceback": [
            "\u001b[0;31m---------------------------------------------------------------------------\u001b[0m",
            "\u001b[0;31mValueError\u001b[0m                                Traceback (most recent call last)",
            "\u001b[0;32m<ipython-input-7-d944407886a4>\u001b[0m in \u001b[0;36m<module>\u001b[0;34m()\u001b[0m\n\u001b[1;32m      8\u001b[0m \u001b[0;34m\u001b[0m\u001b[0m\n\u001b[1;32m      9\u001b[0m \u001b[0;31m# Export the image to a dot file\u001b[0m\u001b[0;34m\u001b[0m\u001b[0;34m\u001b[0m\u001b[0;34m\u001b[0m\u001b[0m\n\u001b[0;32m---> 10\u001b[0;31m \u001b[0mexport_graphviz\u001b[0m\u001b[0;34m(\u001b[0m\u001b[0mtree\u001b[0m\u001b[0;34m,\u001b[0m \u001b[0mout_file\u001b[0m \u001b[0;34m=\u001b[0m \u001b[0;34m'tree.dot'\u001b[0m\u001b[0;34m,\u001b[0m \u001b[0mfeature_names\u001b[0m \u001b[0;34m=\u001b[0m \u001b[0mfeature_list\u001b[0m\u001b[0;34m,\u001b[0m \u001b[0mrounded\u001b[0m \u001b[0;34m=\u001b[0m \u001b[0;32mTrue\u001b[0m\u001b[0;34m,\u001b[0m \u001b[0mprecision\u001b[0m \u001b[0;34m=\u001b[0m \u001b[0;36m1\u001b[0m\u001b[0;34m)\u001b[0m\u001b[0;34m\u001b[0m\u001b[0;34m\u001b[0m\u001b[0m\n\u001b[0m\u001b[1;32m     11\u001b[0m \u001b[0;31m# Use dot file to create a graph\u001b[0m\u001b[0;34m\u001b[0m\u001b[0;34m\u001b[0m\u001b[0;34m\u001b[0m\u001b[0m\n\u001b[1;32m     12\u001b[0m \u001b[0;34m(\u001b[0m\u001b[0mgraph\u001b[0m\u001b[0;34m,\u001b[0m \u001b[0;34m)\u001b[0m \u001b[0;34m=\u001b[0m \u001b[0mpydot\u001b[0m\u001b[0;34m.\u001b[0m\u001b[0mgraph_from_dot_file\u001b[0m\u001b[0;34m(\u001b[0m\u001b[0;34m'tree.dot'\u001b[0m\u001b[0;34m)\u001b[0m\u001b[0;34m\u001b[0m\u001b[0;34m\u001b[0m\u001b[0m\n",
            "\u001b[0;32m/usr/local/lib/python3.6/dist-packages/sklearn/tree/_export.py\u001b[0m in \u001b[0;36mexport_graphviz\u001b[0;34m(decision_tree, out_file, max_depth, feature_names, class_names, label, filled, leaves_parallel, impurity, node_ids, proportion, rotate, rounded, special_characters, precision)\u001b[0m\n\u001b[1;32m    762\u001b[0m             \u001b[0mrounded\u001b[0m\u001b[0;34m=\u001b[0m\u001b[0mrounded\u001b[0m\u001b[0;34m,\u001b[0m \u001b[0mspecial_characters\u001b[0m\u001b[0;34m=\u001b[0m\u001b[0mspecial_characters\u001b[0m\u001b[0;34m,\u001b[0m\u001b[0;34m\u001b[0m\u001b[0;34m\u001b[0m\u001b[0m\n\u001b[1;32m    763\u001b[0m             precision=precision)\n\u001b[0;32m--> 764\u001b[0;31m         \u001b[0mexporter\u001b[0m\u001b[0;34m.\u001b[0m\u001b[0mexport\u001b[0m\u001b[0;34m(\u001b[0m\u001b[0mdecision_tree\u001b[0m\u001b[0;34m)\u001b[0m\u001b[0;34m\u001b[0m\u001b[0;34m\u001b[0m\u001b[0m\n\u001b[0m\u001b[1;32m    765\u001b[0m \u001b[0;34m\u001b[0m\u001b[0m\n\u001b[1;32m    766\u001b[0m         \u001b[0;32mif\u001b[0m \u001b[0mreturn_string\u001b[0m\u001b[0;34m:\u001b[0m\u001b[0;34m\u001b[0m\u001b[0;34m\u001b[0m\u001b[0m\n",
            "\u001b[0;32m/usr/local/lib/python3.6/dist-packages/sklearn/tree/_export.py\u001b[0m in \u001b[0;36mexport\u001b[0;34m(self, decision_tree)\u001b[0m\n\u001b[1;32m    397\u001b[0m                                  \u001b[0;34m\"does not match number of features, %d\"\u001b[0m\u001b[0;34m\u001b[0m\u001b[0;34m\u001b[0m\u001b[0m\n\u001b[1;32m    398\u001b[0m                                  % (len(self.feature_names),\n\u001b[0;32m--> 399\u001b[0;31m                                     decision_tree.n_features_))\n\u001b[0m\u001b[1;32m    400\u001b[0m         \u001b[0;31m# each part writes to out_file\u001b[0m\u001b[0;34m\u001b[0m\u001b[0;34m\u001b[0m\u001b[0;34m\u001b[0m\u001b[0m\n\u001b[1;32m    401\u001b[0m         \u001b[0mself\u001b[0m\u001b[0;34m.\u001b[0m\u001b[0mhead\u001b[0m\u001b[0;34m(\u001b[0m\u001b[0;34m)\u001b[0m\u001b[0;34m\u001b[0m\u001b[0;34m\u001b[0m\u001b[0m\n",
            "\u001b[0;31mValueError\u001b[0m: Length of feature_names, 5 does not match number of features, 13"
          ]
        }
      ]
    },
    {
      "cell_type": "code",
      "metadata": {
        "id": "Cbubqsy-k3Yp",
        "colab_type": "code",
        "colab": {
          "base_uri": "https://localhost:8080/",
          "height": 238
        },
        "outputId": "f00694ae-9f1e-4d7e-bfeb-d28fd11e8813"
      },
      "source": [
        "# figure out variable importances.\n",
        "\n",
        "feature_list = [\"bathrooms\",\"bedrooms\",\"bedroom per dollar\",\"bathroom per dollar\",\"latitude\",\"longitude\",\"price\",\"num_features\",\n",
        "             \"num_photos\", \"num_features\", \"num_description_words\", \"created_month\", \"created_day\"]\n",
        "\n",
        "# Get numerical feature importances\n",
        "importances = list(clf.feature_importances_)\n",
        "# List of tuples with variable and importance\n",
        "feature_importances = [(feature, round(importance, 2)) for feature, importance in zip(feature_list, importances)]\n",
        "# Sort the feature importances by most important first\n",
        "feature_importances = sorted(feature_importances, key = lambda x: x[1], reverse = True)\n",
        "# Print out the feature and importances \n",
        "[print('Variable: {:20} Importance: {}'.format(*pair)) for pair in feature_importances];"
      ],
      "execution_count": 8,
      "outputs": [
        {
          "output_type": "stream",
          "text": [
            "Variable: latitude             Importance: 0.12\n",
            "Variable: longitude            Importance: 0.12\n",
            "Variable: num_description_words Importance: 0.12\n",
            "Variable: bedroom per dollar   Importance: 0.1\n",
            "Variable: price                Importance: 0.1\n",
            "Variable: created_day          Importance: 0.1\n",
            "Variable: bathroom per dollar  Importance: 0.09\n",
            "Variable: num_photos           Importance: 0.08\n",
            "Variable: num_features         Importance: 0.05\n",
            "Variable: num_features         Importance: 0.05\n",
            "Variable: created_month        Importance: 0.04\n",
            "Variable: bedrooms             Importance: 0.02\n",
            "Variable: bathrooms            Importance: 0.01\n"
          ],
          "name": "stdout"
        }
      ]
    },
    {
      "cell_type": "code",
      "metadata": {
        "id": "wANXsfGTqpCE",
        "colab_type": "code",
        "colab": {}
      },
      "source": [
        "# run on submission test.\n",
        "df_test = pd.read_json(\"/content/drive/My Drive/Colab Notebooks/test.json\")\n"
      ],
      "execution_count": 0,
      "outputs": []
    },
    {
      "cell_type": "code",
      "metadata": {
        "id": "bvM_78mKssvg",
        "colab_type": "code",
        "colab": {}
      },
      "source": [
        "# feature engineering.\n",
        "df_test[\"num_features\"] = df_test[\"features\"].apply(len)\n",
        "df_test[\"num_photos\"] = df_test[\"photos\"].apply(len)\n",
        "df_test[\"num_description_words\"] = df_test[\"description\"].apply(lambda x: len(x.split(\" \")))\n",
        "df_test[\"created\"] = pd.to_datetime(df_test[\"created\"])\n",
        "df_test[\"created_month\"] = df_test[\"created\"].dt.month\n",
        "df_test[\"created_day\"] = df_test[\"created\"].dt.day\n",
        "\n",
        "# create features on price and number of rooms.\n",
        "df_test[\"bedroom per dollar\"] = np.divide(df_test[\"bedrooms\"],df_test[\"price\"])*1000\n",
        "df_test[\"bathroom per dollar\"] = np.divide(df_test[\"bathrooms\"],df_test[\"price\"])*1000\n"
      ],
      "execution_count": 0,
      "outputs": []
    },
    {
      "cell_type": "code",
      "metadata": {
        "id": "jes2V8pUtOct",
        "colab_type": "code",
        "colab": {}
      },
      "source": [
        "X = df_test[feature_list]\n",
        "\n",
        "y = clf.predict_proba(X)\n"
      ],
      "execution_count": 0,
      "outputs": []
    },
    {
      "cell_type": "code",
      "metadata": {
        "id": "DYQ2WcsDuLjT",
        "colab_type": "code",
        "colab": {}
      },
      "source": [
        "# print(y[0:20])\n",
        "\n",
        "labels2idx = {'high': 0, 'low': 1, 'medium': 2}\n",
        "\n",
        "labels2idx\n",
        "\n",
        "sub = pd.DataFrame()\n",
        "sub[\"listing_id\"] = df_test[\"listing_id\"]\n",
        "for label in [\"high\", \"medium\", \"low\"]:\n",
        "    sub[label] = y[:, labels2idx[label]]\n",
        "sub.to_csv(\"submission_rf.csv\", index=False)"
      ],
      "execution_count": 0,
      "outputs": []
    }
  ]
}